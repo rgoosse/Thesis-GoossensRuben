{
 "cells": [
  {
   "cell_type": "code",
   "execution_count": 1,
   "metadata": {},
   "outputs": [],
   "source": [
    "import matplotlib.pyplot as plt\n",
    "import PathsGrid as p\n",
    "import warnings\n",
    "warnings.filterwarnings('ignore')\n",
    "import numpy as np\n",
    "import nashpy as nash\n",
    "import sys\n",
    "np.set_printoptions(threshold=sys.maxsize)"
   ]
  },
  {
   "cell_type": "code",
   "execution_count": 2,
   "metadata": {},
   "outputs": [],
   "source": [
    "player1 = p.Player([0, 0])\n",
    "player2 = p.Player([2, 0])\n",
    "\n",
    "grid = p.Grid(length = 3,\n",
    "            width = 3,\n",
    "            players = [player1, player2],\n",
    "            obstacle_coordinates = [], \n",
    "            reward_coordinates = [1,2],\n",
    "            reward_value = 100,\n",
    "            collision_penalty = -10)"
   ]
  },
  {
   "cell_type": "code",
   "execution_count": 3,
   "metadata": {},
   "outputs": [],
   "source": [
    "def create_strategies():\n",
    "    strategies = []\n",
    "    for i in player1.movements:\n",
    "        for j in player1.movements:\n",
    "            for k in player1.movements:\n",
    "                strategies.append([i, j, k])\n",
    "    return strategies"
   ]
  },
  {
   "cell_type": "code",
   "execution_count": 4,
   "metadata": {},
   "outputs": [],
   "source": [
    "def get_payoff(strategie1, strategie2, through1, through2):\n",
    "    player1_rewards = []\n",
    "    player2_rewards = []\n",
    "    player1 = p.Player([0, 0])\n",
    "    player2 = p.Player([2, 0])\n",
    "    current_state = [player1.position, player2.position]\n",
    "    grid = p.Grid(length = 3,\n",
    "            width = 3,\n",
    "            players = [player1, player2],\n",
    "            obstacle_coordinates = [], \n",
    "            reward_coordinates = [1,2],\n",
    "            reward_value = 100,\n",
    "            collision_penalty = -10)\n",
    "    walls = grid.identify_walls()\n",
    "    for i in range(len(strategie1)):\n",
    "\n",
    "        if current_state == grid.reward_coordinates:\n",
    "            break\n",
    "\n",
    "        if [strategie1[i], current_state[0]] in walls:\n",
    "            new_state_1 = current_state[0]\n",
    "        else:\n",
    "            new_state_1 = player1.move(strategie1[i], through1)\n",
    "        \n",
    "        if [strategie2[i], current_state[1]] in walls:\n",
    "            new_state_2 = current_state[1]\n",
    "        else:\n",
    "            new_state_2 = player2.move(strategie2[i], through2)\n",
    "\n",
    "        if new_state_1 != new_state_2:\n",
    "            new_state = [new_state_1, new_state_2]\n",
    "            player1.position = new_state_1\n",
    "            player2.position = new_state_2\n",
    "            player1_rewards.append(grid.compute_reward(current_state[0], new_state[0], strategie1[i]))\n",
    "            player2_rewards.append(grid.compute_reward(current_state[1], new_state[1], strategie2[i]))\n",
    "            current_state = new_state\n",
    "        if [new_state_1, new_state_2] == [grid.reward_coordinates, grid.reward_coordinates]:\n",
    "            new_state = [new_state_1, new_state_2]\n",
    "            player1.position = new_state_1\n",
    "            player2.position = new_state_2\n",
    "            player1_rewards.append(grid.compute_reward(current_state[0], new_state[0], strategie1[i]))\n",
    "            player2_rewards.append(grid.compute_reward(current_state[1], new_state[1], strategie2[i]))\n",
    "            current_state = new_state\n",
    "        if new_state_1 == new_state_2 and [new_state_1, new_state_2] != [grid.reward_coordinates, grid.reward_coordinates]:\n",
    "            player1_rewards.append(grid.compute_reward(current_state[0], current_state[0], strategie1[i]))\n",
    "            player2_rewards.append(grid.compute_reward(current_state[1], current_state[1], strategie2[i]))\n",
    "\n",
    "    player1_rewards.append(-player1.barrier_bonus)\n",
    "    player2_rewards.append(-player2.barrier_bonus)\n",
    "\n",
    "    player1.barrier_counter = 0\n",
    "    player2.barrier_counter = 0\n",
    "\n",
    "    player1.barrier_bonus = 0\n",
    "    player2.barrier_bonus = 0\n",
    "\n",
    "    return sum(player1_rewards), sum(player2_rewards)"
   ]
  },
  {
   "cell_type": "code",
   "execution_count": 5,
   "metadata": {},
   "outputs": [],
   "source": [
    "def utility_function(strategie1, strategie2):\n",
    "    utility_1 = 0\n",
    "    utility_2 = 0\n",
    "    for i in range(2):\n",
    "        for j in range(2):\n",
    "            for k in range(2):\n",
    "                for l in range(2):\n",
    "                    for m in range(2):\n",
    "                        for n in range(2):\n",
    "                            ut1, ut2 = get_payoff(strategie1, strategie2, [i, j, k], [l, m, n])\n",
    "                            utility_1 += ut1/64\n",
    "                            utility_2 += ut2/64\n",
    "    return utility_1, utility_2"
   ]
  },
  {
   "cell_type": "code",
   "execution_count": 6,
   "metadata": {},
   "outputs": [],
   "source": [
    "def strategie_payoff_matrix():\n",
    "    strategies = create_strategies()\n",
    "    counter = 0\n",
    "    payoff1 = np.zeros((len(strategies), len(strategies)))\n",
    "    payoff2 = np.zeros((len(strategies), len(strategies)))\n",
    "    # payoff1 = [[0 for i in range(len(strategies))] for j in range(len(strategies))]\n",
    "    # payoff2 = [[0 for i in range(len(strategies))] for j in range(len(strategies))]\n",
    "    for i in range(len(strategies)):\n",
    "        for j in range(len(strategies)):\n",
    "            player1_reward, player2_reward = utility_function(strategies[i], strategies[j])\n",
    "            payoff1[i][j] = player1_reward\n",
    "            payoff2[i][j] = player2_reward\n",
    "            counter += 1\n",
    "        print(f\"Percentage: {100*counter/125**2}%\")\n",
    "    return payoff1, payoff2"
   ]
  },
  {
   "cell_type": "code",
   "execution_count": 7,
   "metadata": {},
   "outputs": [],
   "source": [
    "strategies = create_strategies()"
   ]
  },
  {
   "cell_type": "code",
   "execution_count": 8,
   "metadata": {},
   "outputs": [
    {
     "name": "stdout",
     "output_type": "stream",
     "text": [
      "Percentage: 0.8%\n",
      "Percentage: 1.6%\n",
      "Percentage: 2.4%\n",
      "Percentage: 3.2%\n",
      "Percentage: 4.0%\n",
      "Percentage: 4.8%\n",
      "Percentage: 5.6%\n",
      "Percentage: 6.4%\n",
      "Percentage: 7.2%\n",
      "Percentage: 8.0%\n",
      "Percentage: 8.8%\n",
      "Percentage: 9.6%\n",
      "Percentage: 10.4%\n",
      "Percentage: 11.2%\n",
      "Percentage: 12.0%\n",
      "Percentage: 12.8%\n",
      "Percentage: 13.6%\n",
      "Percentage: 14.4%\n",
      "Percentage: 15.2%\n",
      "Percentage: 16.0%\n",
      "Percentage: 16.8%\n",
      "Percentage: 17.6%\n",
      "Percentage: 18.4%\n",
      "Percentage: 19.2%\n",
      "Percentage: 20.0%\n",
      "Percentage: 20.8%\n",
      "Percentage: 21.6%\n",
      "Percentage: 22.4%\n",
      "Percentage: 23.2%\n",
      "Percentage: 24.0%\n",
      "Percentage: 24.8%\n",
      "Percentage: 25.6%\n",
      "Percentage: 26.4%\n",
      "Percentage: 27.2%\n",
      "Percentage: 28.0%\n",
      "Percentage: 28.8%\n",
      "Percentage: 29.6%\n",
      "Percentage: 30.4%\n",
      "Percentage: 31.2%\n",
      "Percentage: 32.0%\n",
      "Percentage: 32.8%\n",
      "Percentage: 33.6%\n",
      "Percentage: 34.4%\n",
      "Percentage: 35.2%\n",
      "Percentage: 36.0%\n",
      "Percentage: 36.8%\n",
      "Percentage: 37.6%\n",
      "Percentage: 38.4%\n",
      "Percentage: 39.2%\n",
      "Percentage: 40.0%\n",
      "Percentage: 40.8%\n",
      "Percentage: 41.6%\n",
      "Percentage: 42.4%\n",
      "Percentage: 43.2%\n",
      "Percentage: 44.0%\n",
      "Percentage: 44.8%\n",
      "Percentage: 45.6%\n",
      "Percentage: 46.4%\n",
      "Percentage: 47.2%\n",
      "Percentage: 48.0%\n",
      "Percentage: 48.8%\n",
      "Percentage: 49.6%\n",
      "Percentage: 50.4%\n",
      "Percentage: 51.2%\n",
      "Percentage: 52.0%\n",
      "Percentage: 52.8%\n",
      "Percentage: 53.6%\n",
      "Percentage: 54.4%\n",
      "Percentage: 55.2%\n",
      "Percentage: 56.0%\n",
      "Percentage: 56.8%\n",
      "Percentage: 57.6%\n",
      "Percentage: 58.4%\n",
      "Percentage: 59.2%\n",
      "Percentage: 60.0%\n",
      "Percentage: 60.8%\n",
      "Percentage: 61.6%\n",
      "Percentage: 62.4%\n",
      "Percentage: 63.2%\n",
      "Percentage: 64.0%\n",
      "Percentage: 64.8%\n",
      "Percentage: 65.6%\n",
      "Percentage: 66.4%\n",
      "Percentage: 67.2%\n",
      "Percentage: 68.0%\n",
      "Percentage: 68.8%\n",
      "Percentage: 69.6%\n",
      "Percentage: 70.4%\n",
      "Percentage: 71.2%\n",
      "Percentage: 72.0%\n",
      "Percentage: 72.8%\n",
      "Percentage: 73.6%\n",
      "Percentage: 74.4%\n",
      "Percentage: 75.2%\n",
      "Percentage: 76.0%\n",
      "Percentage: 76.8%\n",
      "Percentage: 77.6%\n",
      "Percentage: 78.4%\n",
      "Percentage: 79.2%\n",
      "Percentage: 80.0%\n",
      "Percentage: 80.8%\n",
      "Percentage: 81.6%\n",
      "Percentage: 82.4%\n",
      "Percentage: 83.2%\n",
      "Percentage: 84.0%\n",
      "Percentage: 84.8%\n",
      "Percentage: 85.6%\n",
      "Percentage: 86.4%\n",
      "Percentage: 87.2%\n",
      "Percentage: 88.0%\n",
      "Percentage: 88.8%\n",
      "Percentage: 89.6%\n",
      "Percentage: 90.4%\n",
      "Percentage: 91.2%\n",
      "Percentage: 92.0%\n",
      "Percentage: 92.8%\n",
      "Percentage: 93.6%\n",
      "Percentage: 94.4%\n",
      "Percentage: 95.2%\n",
      "Percentage: 96.0%\n",
      "Percentage: 96.8%\n",
      "Percentage: 97.6%\n",
      "Percentage: 98.4%\n",
      "Percentage: 99.2%\n",
      "Percentage: 100.0%\n"
     ]
    }
   ],
   "source": [
    "payoff_matrix_1, payoff_matrix_2 = strategie_payoff_matrix()"
   ]
  },
  {
   "cell_type": "code",
   "execution_count": 9,
   "metadata": {},
   "outputs": [],
   "source": [
    "game = nash.Game(payoff_matrix_1, payoff_matrix_2)\n",
    "equilibria = list(game.lemke_howson(9))"
   ]
  },
  {
   "cell_type": "code",
   "execution_count": 11,
   "metadata": {},
   "outputs": [
    {
     "name": "stdout",
     "output_type": "stream",
     "text": [
      "The strategy of player 1 in the equilbrium is ['up', 'up', 'right']\n",
      "The strategy of player 2 in the equilbrium is ['left', 'up', 'up']\n"
     ]
    }
   ],
   "source": [
    "player1_strategy = strategies[[i for i in range(len(equilibria[0])) if equilibria[0][i] ==1.][0]]\n",
    "player2_strategy = strategies[[i for i in range(len(equilibria[1])) if equilibria[1][i] ==1.][0]]\n",
    "\n",
    "print(f\"The strategy of player 1 in the equilbrium is {player1_strategy}\")\n",
    "print(f\"The strategy of player 2 in the equilbrium is {player2_strategy}\")"
   ]
  },
  {
   "cell_type": "code",
   "execution_count": 12,
   "metadata": {},
   "outputs": [],
   "source": [
    "def get_best_response(strategy):\n",
    "    best_response = None\n",
    "    best_utility = -10**8\n",
    "    strategies = create_strategies()\n",
    "    for i in range(len(strategies)):\n",
    "        if payoff_matrix_2[strategy][i] > best_utility:\n",
    "            best_utility = payoff_matrix_2[strategy][i]\n",
    "            best_response = i\n",
    "    return strategies[best_response]"
   ]
  },
  {
   "cell_type": "code",
   "execution_count": 13,
   "metadata": {},
   "outputs": [],
   "source": [
    "s11 = strategies.index(['up', 'up', 'right'])\n",
    "s21 = strategies.index(['right', 'up', 'up'])\n",
    "s12 = strategies.index(['left', 'up', 'up'])\n",
    "s22 = strategies.index(['up', 'up', 'left'])"
   ]
  },
  {
   "cell_type": "code",
   "execution_count": 14,
   "metadata": {},
   "outputs": [
    {
     "name": "stdout",
     "output_type": "stream",
     "text": [
      "The best response for strategy ['up', 'up', 'right'] of player 1 is for player 2 to play ['left', 'up', 'up']\n",
      "The best response for strategy ['right', 'up', 'up'] of player 1 is for player 2 to play ['up', 'up', 'left']\n"
     ]
    }
   ],
   "source": [
    "print(f'The best response for strategy {strategies[s11]} of player 1 is for player 2 to play {get_best_response(s11)}')\n",
    "print(f'The best response for strategy {strategies[s21]} of player 1 is for player 2 to play {get_best_response(s21)}')"
   ]
  }
 ],
 "metadata": {
  "kernelspec": {
   "display_name": "Python 3",
   "language": "python",
   "name": "python3"
  },
  "language_info": {
   "codemirror_mode": {
    "name": "ipython",
    "version": 3
   },
   "file_extension": ".py",
   "mimetype": "text/x-python",
   "name": "python",
   "nbconvert_exporter": "python",
   "pygments_lexer": "ipython3",
   "version": "3.10.6"
  },
  "orig_nbformat": 4
 },
 "nbformat": 4,
 "nbformat_minor": 2
}
